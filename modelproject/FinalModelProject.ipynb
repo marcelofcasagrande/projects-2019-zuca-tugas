{
 "cells": [
  {
   "cell_type": "markdown",
   "metadata": {},
   "source": [
    "# 1. Cournot Model \n",
    "\n",
    "In this project, we will solve the Cournot model with 2 competitor firms (i and j). We consider a homogeneous product market with 2 firms in which each firm sets q as output. Cournot duopoly, also called Cournot competition, is a model of imperfect competition.\n",
    "\n",
    "The idea behind the Cournot Model is that each firm chooses the best reply function, taking into account the quantities that its competitor takes to the market.\n",
    "\n",
    "The inverse demand function is given by:\n",
    "    # P(qi,qj) = d - a*qi - b*qj, where P is the price of the market, d is a parameter and a and b are elasticities.\n",
    "    \n",
    "    Total Output of the industry = q1 + qj\n",
    "     \n",
    "The cost function is given by:\n",
    "    # cost(qi) = ci* qi, where ci is the cost of production of 1 unit of firm i's output.\n",
    "\n",
    "Firm i ’s cost function: C (qi), with C'i (qi) > 0 and C\"i (qi) ≥ 0.\n",
    "     \n",
    "The goal of each firm is to maximize their profits, considering the other firm as well:\n",
    "\n",
    "Profit = P* qi - cost(qi) = (d - a* qi - b* qj)* qi - ci* qi"
   ]
  },
  {
   "cell_type": "code",
   "execution_count": 1,
   "metadata": {},
   "outputs": [],
   "source": [
    "# Importing useful packages\n",
    "import numpy as np\n",
    "import scipy as sp\n",
    "import sympy as sm\n",
    "import matplotlib.pyplot as plt\n",
    "import ipywidgets as widgets\n",
    "import pylab"
   ]
  },
  {
   "cell_type": "code",
   "execution_count": 2,
   "metadata": {},
   "outputs": [],
   "source": [
    "# Sympy package helps writting  \n",
    "\n",
    "sm.init_printing(use_unicode=True)"
   ]
  },
  {
   "cell_type": "code",
   "execution_count": 3,
   "metadata": {},
   "outputs": [],
   "source": [
    "from sympy import *"
   ]
  },
  {
   "cell_type": "markdown",
   "metadata": {},
   "source": [
    "# 2. Model"
   ]
  },
  {
   "cell_type": "markdown",
   "metadata": {},
   "source": [
    "We start our analysis of the Cournot model with the simple case of an oligopoly facing a linear demand for a homogeneous product and producing at constant marginal costs."
   ]
  },
  {
   "cell_type": "markdown",
   "metadata": {},
   "source": [
    "Nash equilibrium happens when no firm can increase its profits by unilaterally choosing some other quantity, given the equilibrium quantity of its rivals :\n",
    "    # πi (q1*,q2*) ≥ πi (q1, q2)"
   ]
  },
  {
   "cell_type": "markdown",
   "metadata": {},
   "source": [
    "Industry´s output is the the sum of the quantities produce by the two firms:\n",
    "\n",
    "    # Q = q1 + q2"
   ]
  },
  {
   "cell_type": "code",
   "execution_count": 4,
   "metadata": {},
   "outputs": [],
   "source": [
    "# Defining the elements in the firms choice\n",
    "\n",
    "d = sm.symbols('d')\n",
    "a,b = sm.symbols('a b')\n",
    "q1, q2 = sm.symbols('q1 q2') \n",
    "c1, c2 = sm.symbols('c1 c2') "
   ]
  },
  {
   "cell_type": "code",
   "execution_count": 5,
   "metadata": {},
   "outputs": [],
   "source": [
    "# Defining equations: inverse demand function P(qi,qj) and the cost function\n",
    "\n",
    "# Inverse Demand Function:\n",
    "def p(q1,q2):\n",
    "    return d - a* q1 - b* q2\n",
    "\n",
    "# Cost Function:\n",
    "def cost(q,c):\n",
    "    return c* q"
   ]
  },
  {
   "cell_type": "markdown",
   "metadata": {},
   "source": [
    "Marginal Cost is the first derivative of the cost function."
   ]
  },
  {
   "cell_type": "markdown",
   "metadata": {},
   "source": [
    "Firms maximize profits with the first order condition and the set to 0:\n",
    "\n",
    "    Firm i: d - 2aqi - bqj -ci = 0\n",
    "    Firm j: d - aqi - 2bqj -cj = 0\n",
    "\n",
    "After solving the first order conditions we get to the best response functions:\n",
    "\n",
    "    Firm i: qi= 1/2a * (d-ci-bj)\n",
    "    Firm j: qj= 1/2b * (d-cj-ai)\n",
    "\n",
    "In equilibrium: qi = Ri(qj) is best response for firm i taking into account qj"
   ]
  },
  {
   "cell_type": "code",
   "execution_count": 6,
   "metadata": {},
   "outputs": [],
   "source": [
    "# Defining the profit function of a firm with cost level c that produces output q1 while taking into account the competitor \n",
    "# quantities q2 because firms are competing with each other\n",
    "\n",
    "def profit(q1,q2,c):\n",
    "    return p(q1,q2)*q1 - cost(q1,c)\n",
    "\n",
    "foc1 = diff(profit(q1,q2,c1),q1)\n",
    "foc2 = diff(profit(q2,q1,c2),q2)"
   ]
  },
  {
   "cell_type": "code",
   "execution_count": 7,
   "metadata": {},
   "outputs": [
    {
     "data": {
      "image/png": "[encoded data removed]",
      "text/latex": [
       "$$- 2 a q_{1} - b q_{2} - c_{1} + d$$"
      ],
      "text/plain": [
       "-2⋅a⋅q₁ - b⋅q₂ - c₁ + d"
      ]
     },
     "execution_count": 7,
     "metadata": {},
     "output_type": "execute_result"
    }
   ],
   "source": [
    "foc1"
   ]
  },
  {
   "cell_type": "code",
   "execution_count": 8,
   "metadata": {},
   "outputs": [
    {
     "data": {
      "image/png": "[encoded data removed]",
      "text/latex": [
       "$$- 2 a q_{2} - b q_{1} - c_{2} + d$$"
      ],
      "text/plain": [
       "-2⋅a⋅q₂ - b⋅q₁ - c₂ + d"
      ]
     },
     "execution_count": 8,
     "metadata": {},
     "output_type": "execute_result"
    }
   ],
   "source": [
    "foc2"
   ]
  },
  {
   "cell_type": "code",
   "execution_count": 9,
   "metadata": {},
   "outputs": [
    {
     "data": {
      "image/png": "[encoded data removed]",
      "text/latex": [
       "$$\\frac{- b q_{2} - c_{1} + d}{2 a}$$"
      ],
      "text/plain": [
       "-b⋅q₂ - c₁ + d\n",
       "──────────────\n",
       "     2⋅a      "
      ]
     },
     "execution_count": 9,
     "metadata": {},
     "output_type": "execute_result"
    }
   ],
   "source": [
    "# For firm 1, optimal price:\n",
    "\n",
    "sol1= sm.solve(sm.Eq(foc1,0),q1)[0]\n",
    "sol1"
   ]
  },
  {
   "cell_type": "code",
   "execution_count": 10,
   "metadata": {},
   "outputs": [
    {
     "data": {
      "image/png": "[encoded data removed]",
      "text/latex": [
       "$$\\frac{- b q_{1} - c_{2} + d}{2 a}$$"
      ],
      "text/plain": [
       "-b⋅q₁ - c₂ + d\n",
       "──────────────\n",
       "     2⋅a      "
      ]
     },
     "execution_count": 10,
     "metadata": {},
     "output_type": "execute_result"
    }
   ],
   "source": [
    "# For firm 2, optimal price:\n",
    "\n",
    "sol2= sm.solve(sm.Eq(foc2,0),q2)[0]\n",
    "sol2"
   ]
  },
  {
   "cell_type": "markdown",
   "metadata": {},
   "source": [
    "So, now that we have the optimal prices of each firm, we must take into account the other firm choice. That is, by choosing some quantity, the other will take that choice into account and it´s now aware of that."
   ]
  },
  {
   "cell_type": "code",
   "execution_count": 11,
   "metadata": {},
   "outputs": [
    {
     "data": {
      "image/png": "[encoded data removed]",
      "text/latex": [
       "$$- 2 a q_{1} - c_{1} + d - \\frac{b \\left(- b q_{1} - c_{2} + d\\right)}{2 a}$$"
      ],
      "text/plain": [
       "                   b⋅(-b⋅q₁ - c₂ + d)\n",
       "-2⋅a⋅q₁ - c₁ + d - ──────────────────\n",
       "                          2⋅a        "
      ]
     },
     "execution_count": 11,
     "metadata": {},
     "output_type": "execute_result"
    }
   ],
   "source": [
    "# Best response of q1, substituting the q2 in equation 1\n",
    "\n",
    "sol1_subs = foc1.subs(q2,sol2)\n",
    "sol1_subs"
   ]
  },
  {
   "cell_type": "code",
   "execution_count": 12,
   "metadata": {},
   "outputs": [
    {
     "data": {
      "image/png": "[encoded data removed]",
      "text/latex": [
       "$$\\left \\{ q_{1} : \\frac{- 2 a \\left(c_{1} - d\\right) + b \\left(c_{2} - d\\right)}{4 a^{2} - b^{2}}, \\quad q_{2} : \\frac{- 2 a \\left(c_{2} - d\\right) + b \\left(c_{1} - d\\right)}{4 a^{2} - b^{2}}\\right \\}$$"
      ],
      "text/plain": [
       "⎧    -2⋅a⋅(c₁ - d) + b⋅(c₂ - d)      -2⋅a⋅(c₂ - d) + b⋅(c₁ - d)⎫\n",
       "⎪q₁: ──────────────────────────, q₂: ──────────────────────────⎪\n",
       "⎨               2    2                          2    2         ⎬\n",
       "⎪            4⋅a  - b                        4⋅a  - b          ⎪\n",
       "⎩                                                              ⎭"
      ]
     },
     "execution_count": 12,
     "metadata": {},
     "output_type": "execute_result"
    }
   ],
   "source": [
    "# This will give a general expression of the solution:\n",
    "\n",
    "solve([foc1, foc2], [q1, q2])"
   ]
  },
  {
   "cell_type": "markdown",
   "metadata": {},
   "source": [
    "The expression above is the general reaction function for both firms. This firms allow the other firm to set the best quantity, taking into account their competitor´s behaviour. \n",
    "\n",
    "Next, we will define the reaction function. The function reaction does exactly that. Below we use the function brute to look for the global maximum of π."
   ]
  },
  {
   "cell_type": "code",
   "execution_count": 13,
   "metadata": {},
   "outputs": [],
   "source": [
    "def reaction(q2,c1,b):\n",
    "    q1 = optimize.brute(lambda x: -profit(q1,q2,c1,b), ((0,1,),)) # brute minimizes the function;\n",
    "                                                                 # when we minimize -profits, we maximize profits\n",
    "    return x1[0]"
   ]
  },
  {
   "cell_type": "markdown",
   "metadata": {},
   "source": [
    "What can infuence the total output?\n",
    "           # The elasticities parameters, which are a and b and the costs."
   ]
  },
  {
   "cell_type": "markdown",
   "metadata": {},
   "source": [
    "# 3. Example 1: Firms with symmetric costs"
   ]
  },
  {
   "cell_type": "markdown",
   "metadata": {},
   "source": [
    "In the case of constant marginal costs, this means to assume that c1 = c2. Then, using the expression above (the general expression of the solution), we derive the quantity produced.\n",
    "\n",
    "Example with the firm costs being the same:"
   ]
  },
  {
   "cell_type": "code",
   "execution_count": 14,
   "metadata": {},
   "outputs": [],
   "source": [
    "d=100\n",
    "a=1\n",
    "b=1\n",
    "c1=1\n",
    "c2=1\n",
    "\n",
    "# P(qi,qj)=100-qi-qj\n",
    "# cost(qi)=1*qi and cost(qj)=1*qj\n",
    "# Profit firm i = P*qi-ci(qi) = (100-2qi-2qj)*qi-qi"
   ]
  },
  {
   "cell_type": "markdown",
   "metadata": {},
   "source": [
    "Substituting the parameters in the demand function and in the cost function, we will have the firms' profits and outputs."
   ]
  },
  {
   "cell_type": "code",
   "execution_count": 15,
   "metadata": {},
   "outputs": [
    {
     "data": {
      "image/png": "[encoded data removed]",
      "text/latex": [
       "$$\\left \\{ q_{1} : 33, \\quad q_{2} : 33\\right \\}$$"
      ],
      "text/plain": [
       "{q₁: 33, q₂: 33}"
      ]
     },
     "execution_count": 15,
     "metadata": {},
     "output_type": "execute_result"
    }
   ],
   "source": [
    "def profit(q1,q2,c):\n",
    "    return p(q1,q2)*q1 - cost(q1,c)\n",
    "\n",
    "foc1 = diff(profit(q1,q2,c1),q1)\n",
    "foc2 = diff(profit(q2,q1,c2),q2)\n",
    "\n",
    "solve([foc1, foc2], [q1, q2])"
   ]
  },
  {
   "cell_type": "markdown",
   "metadata": {},
   "source": [
    "What all this explains is a very basic principle. Both companies are vying for maximum benefits. These benefits are derived from both maximum sales volume (a larger share of the market) and higher prices (higher profitability). The problem stems from the fact that increasing profitability through higher prices can damage revenue by losing market share. What Cournot’s approach does is maximise both market share and profitability by defining optimum prices. This price will be the same for both companies, as otherwise the one with the lower price will obtain full market share, which makes this a Nash equilibrium, also known for this model the Cournot-Nash equilibrium."
   ]
  },
  {
   "cell_type": "markdown",
   "metadata": {},
   "source": [
    "This is intuitive: when both firms have equal costs, the answer will be symmetric and both will produce the same quantities. It can also be the case that they have different cost functions and the one with lower costs will have an advantage and will produce more.\n",
    "\n",
    "To be the lower cost firm, what can be gained by higher efficiency, means to produce and sell more, as we will see bellow."
   ]
  },
  {
   "cell_type": "markdown",
   "metadata": {},
   "source": [
    "# 4. Example 2: Firms with asymmetric costs"
   ]
  },
  {
   "cell_type": "markdown",
   "metadata": {},
   "source": [
    "Case when firms have asymmetric costs (q1 != q2):"
   ]
  },
  {
   "cell_type": "code",
   "execution_count": 16,
   "metadata": {},
   "outputs": [
    {
     "data": {
      "image/png": "[encoded data removed]",
      "text/latex": [
       "$$\\left \\{ q_{1} : 40.0, \\quad q_{2} : 38.0\\right \\}$$"
      ],
      "text/plain": [
       "{q₁: 40.0, q₂: 38.0}"
      ]
     },
     "execution_count": 16,
     "metadata": {},
     "output_type": "execute_result"
    }
   ],
   "source": [
    "# If we want to give specific values to the variables\n",
    "\n",
    "d=100\n",
    "a=1\n",
    "b=0.5\n",
    "c1=1\n",
    "c2=4\n",
    "\n",
    "# Note that if the cost of firm 1 is lower, this firm has an advantage and it will bring more quantities to the market\n",
    "# The result will be q1 > q2\n",
    "\n",
    "def profit(q1,q2,c):\n",
    "    return p(q1,q2)*q1 - cost(q1,c)\n",
    "\n",
    "foc1 = diff(profit(q1,q2,c1),q1)\n",
    "foc2 = diff(profit(q2,q1,c2),q2)\n",
    "\n",
    "solve([foc1, foc2], [q1, q2])"
   ]
  },
  {
   "cell_type": "markdown",
   "metadata": {},
   "source": [
    "Conclusion: firm 1 will produce more than firm 2. This is logical: if c2 is higher than c1, firm 1 will produce and therefore sell more, having higher profits than the second firm.\n",
    "\n",
    "Knowing the optimal values of q1 and q2, we can find the optimal price for this market:\n",
    "\n",
    "    P(q1,q2) = 100 - q1 - q2*0.5\n",
    "    P(q1,q2) = 100 - 40 - 19\n",
    "    P(q1,q2) = 41\n",
    "    \n",
    "We can now substitute the price in the demand functions and find the general expressions for q1 and q2:\n",
    "\n",
    "    q1 = 59 - q2*0.5\n",
    "    q2 = 118 - q1*2"
   ]
  },
  {
   "cell_type": "markdown",
   "metadata": {},
   "source": [
    "With this example, we can make a graph that shows the different reaction functions and the optimal point. This optimal point is given where the lines cross each other and shows the best choices of production."
   ]
  },
  {
   "cell_type": "code",
   "execution_count": 17,
   "metadata": {},
   "outputs": [
    {
     "data": {
      "image/png": "[encoded data removed]",
      "text/plain": [
       "<Figure size 432x288 with 1 Axes>"
      ]
     },
     "metadata": {
      "needs_background": "light"
     },
     "output_type": "display_data"
    }
   ],
   "source": [
    "# Plot\n",
    "\n",
    "plt.plot([0,38,118],[59,40,0], label = 'R1(q2)')\n",
    "plt.plot([0,40,59],[118,38,0], label = 'R2(q1)')\n",
    "plt.legend()\n",
    "plt.xlabel('q2')\n",
    "plt.ylabel('q1')\n",
    "plt.title('Reaction functions')\n",
    "plt.savefig('Cournot1.png')"
   ]
  },
  {
   "cell_type": "markdown",
   "metadata": {},
   "source": [
    "# 5. Numerical Simulation with asymmetric costs:"
   ]
  },
  {
   "cell_type": "code",
   "execution_count": 18,
   "metadata": {},
   "outputs": [],
   "source": [
    "# Importing useful packages\n",
    "\n",
    "from scipy import optimize,arange\n",
    "from numpy import array\n",
    "import matplotlib.pyplot as plt\n",
    "get_ipython().run_line_magic('matplotlib', 'inline')"
   ]
  },
  {
   "cell_type": "markdown",
   "metadata": {},
   "source": [
    "Now that we have the useful packages installed we need to define the functions that are useful to us."
   ]
  },
  {
   "cell_type": "code",
   "execution_count": 22,
   "metadata": {},
   "outputs": [],
   "source": [
    "# Defining inverse demand function\n",
    "def p(q1,q2):\n",
    "    return d-a*q1-b*q2\n",
    "\n",
    "# Defining costs function\n",
    "def costs(q,c):\n",
    "    return c*q\n",
    "\n",
    "# Defining profits function\n",
    "def profits(demand_function,cost_function,c,q1,q2):\n",
    "    return demand_function(q1,q2)*q1-costs(q1,c) "
   ]
  },
  {
   "cell_type": "markdown",
   "metadata": {},
   "source": [
    "Giving values to the parameters where costs are asymmetric across firms."
   ]
  },
  {
   "cell_type": "code",
   "execution_count": 24,
   "metadata": {},
   "outputs": [
    {
     "data": {
      "text/plain": [
       "array([4.05050505, 4.49494949])"
      ]
     },
     "execution_count": 24,
     "metadata": {},
     "output_type": "execute_result"
    }
   ],
   "source": [
    "# Giving values to the parameters\n",
    "d = 100\n",
    "a = 10\n",
    "b = 2\n",
    "c1=10\n",
    "c2=2\n",
    "\n",
    "# Defining the reaction function\n",
    "def reaction(q2,c1):\n",
    "    q1 = optimize.fminbound(lambda x: -profits(p,costs,c1,x,q2),0,d,full_output=1)\n",
    "    return q1[0]\n",
    "\n",
    "def fixed_point(q,c):\n",
    "    return [q[0]-reaction(q[1],c[0]),q[1]-reaction(q[0],c[1])] #[0] stands for firm 1 and [1] for firm 2\n",
    "initial_guess = [0,0]\n",
    "\n",
    "# General formula to get the optimal quantities\n",
    "optimize.fsolve(lambda q: fixed_point(q,[c1,c2]), initial_guess)"
   ]
  },
  {
   "cell_type": "markdown",
   "metadata": {},
   "source": [
    "We can plot the output level of firms 1 and 2 as a function of c1."
   ]
  },
  {
   "cell_type": "code",
   "execution_count": 25,
   "metadata": {},
   "outputs": [
    {
     "data": {
      "image/png": "[encoded data removed]",
      "text/plain": [
       "<Figure size 432x288 with 1 Axes>"
      ]
     },
     "metadata": {
      "needs_background": "light"
     },
     "output_type": "display_data"
    }
   ],
   "source": [
    "# Plot\n",
    "\n",
    "range_c = arange(0,11,1)\n",
    "range_q = [optimize.fsolve(lambda q: fixed_point(q,[c,0]), [0,0]) for c in range_c]\n",
    "plt.plot(range_c,array(range_q)[:,0], label = 'firm 1')\n",
    "plt.plot(range_c,array(range_q)[:,1], label = 'firm 2')\n",
    "plt.legend()\n",
    "plt.xlabel('c1')\n",
    "plt.ylabel('q')\n",
    "plt.savefig('Cournot2.png')"
   ]
  },
  {
   "cell_type": "markdown",
   "metadata": {},
   "source": [
    "Conclusion: higher costs for firm 1 will lead to a lower output, and the opposite will occur with firm 2. This simulation result would be the same as if we had done it in order to q2. So firm 1 and firm2 have to take into account their costs because they will affect the quantities sold and therefore profits.\n",
    "\n",
    "This is the general result from Cournot. In this work we didn´t take into account the possibility of the existence of capacity constraints for both firms because this would affect the final result."
   ]
  }
 ],
 "metadata": {
  "kernelspec": {
   "display_name": "Python 3",
   "language": "python",
   "name": "python3"
  },
  "language_info": {
   "codemirror_mode": {
    "name": "ipython",
    "version": 3
   },
   "file_extension": ".py",
   "mimetype": "text/x-python",
   "name": "python",
   "nbconvert_exporter": "python",
   "pygments_lexer": "ipython3",
   "version": "3.7.1"
  }
 },
 "nbformat": 4,
 "nbformat_minor": 2
}
